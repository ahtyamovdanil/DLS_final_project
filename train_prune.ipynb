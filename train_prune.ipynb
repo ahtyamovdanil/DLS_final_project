{
 "cells": [
  {
   "cell_type": "code",
   "execution_count": 2,
   "metadata": {},
   "outputs": [],
   "source": [
    "import torch\n",
    "import imp\n",
    "#import TransformerTrainer\n",
    "import MyTransformer\n",
    "import PruningTrainer\n",
    "imp.reload(PruningTrainer)\n",
    "imp.reload(MyTransformer)\n",
    "from PruningTrainer import BaseDataModule, MyPruningTrainer\n",
    "from pytorch_lightning import Trainer\n",
    "from pytorch_lightning.callbacks.early_stopping import EarlyStopping\n",
    "from pytorch_lightning import loggers as pl_loggers\n",
    "from pytorch_lightning.callbacks import LearningRateMonitor\n",
    "import random\n",
    "import numpy as np\n",
    "import utils\n",
    "from torch import nn"
   ]
  },
  {
   "cell_type": "code",
   "execution_count": 3,
   "metadata": {},
   "outputs": [
    {
     "name": "stdout",
     "output_type": "stream",
     "text": [
      "env: CUBLAS_WORKSPACE_CONFIG=:16:8\n"
     ]
    }
   ],
   "source": [
    "SEED = 42\n",
    "random.seed(SEED)\n",
    "np.random.seed(SEED)\n",
    "torch.manual_seed(SEED)\n",
    "torch.cuda.manual_seed_all(SEED)\n",
    "torch.backends.cudnn.deterministic = True\n",
    "%env CUBLAS_WORKSPACE_CONFIG :16:8"
   ]
  },
  {
   "cell_type": "code",
   "execution_count": 4,
   "metadata": {},
   "outputs": [],
   "source": [
    "DEVICE = \"cuda\"\n",
    "BATCH_SIZE = 64\n",
    "MAX_LEN = 50\n",
    "\n",
    "torch.manual_seed(SEED)\n",
    "torch.set_deterministic(True)\n",
    "\n",
    "data_module = BaseDataModule(\n",
    "    batch_size=BATCH_SIZE,\n",
    "    device = DEVICE,\n",
    "    data_path=\"./data/eng_rus.txt\",\n",
    "    seed=SEED\n",
    ")\n",
    "\n",
    "data_module.prepare_data()"
   ]
  },
  {
   "cell_type": "code",
   "execution_count": 5,
   "metadata": {},
   "outputs": [],
   "source": [
    "model_params = {\n",
    "    \"src_vocab_size\": data_module.src_vocab_len,\n",
    "    \"trg_vocab_size\": data_module.trg_vocab_len,\n",
    "    \"d_model\": 512,\n",
    "    \"n_enc_layers\": 6,\n",
    "    \"n_dec_layers\": 6,\n",
    "    \"n_enc_heads\": 8,\n",
    "    \"n_dec_heads\": 8,\n",
    "    \"enc_dropout\": 0.1,\n",
    "    \"dec_dropout\": 0.1\n",
    "}"
   ]
  },
  {
   "cell_type": "code",
   "execution_count": 6,
   "metadata": {},
   "outputs": [],
   "source": [
    "model = MyTransformer.Transformer(**model_params)\n",
    "checkpoint = torch.load(\"models/transformer_model.pt\")\n",
    "model.load_state_dict(checkpoint)\n",
    "model.to(DEVICE)\n",
    "pass"
   ]
  },
  {
   "cell_type": "code",
   "execution_count": 7,
   "metadata": {},
   "outputs": [],
   "source": [
    "plmodel = MyPruningTrainer(\n",
    "    model, data_module.src_pad_idx, data_module.trg_pad_idx, 1e-4\n",
    ")\n",
    "plmodel.to(DEVICE)\n",
    "pass"
   ]
  },
  {
   "cell_type": "code",
   "execution_count": 13,
   "metadata": {},
   "outputs": [
    {
     "name": "stderr",
     "output_type": "stream",
     "text": [
      "GPU available: True, used: False\n",
      "TPU available: None, using: 0 TPU cores\n",
      "\n",
      "  | Name      | Type             | Params\n",
      "-----------------------------------------------\n",
      "0 | criterion | CrossEntropyLoss | 0     \n",
      "1 | model     | Transformer      | 57.1 M\n",
      "2 | pruner    | Pruner           | 180   \n",
      "-----------------------------------------------\n",
      "57.1 M    Trainable params\n",
      "36        Non-trainable params\n",
      "57.1 M    Total params\n"
     ]
    },
    {
     "data": {
      "application/vnd.jupyter.widget-view+json": {
       "model_id": "42df82a5ba1e49e6b87ea1aeba6e4195",
       "version_major": 2,
       "version_minor": 0
      },
      "text/plain": "HBox(children=(HTML(value='Validation sanity check'), FloatProgress(value=1.0, bar_style='info', layout=Layout…"
     },
     "metadata": {
      "transient": {}
     },
     "output_type": "display_data"
    },
    {
     "data": {
      "application/vnd.jupyter.widget-view+json": {
       "model_id": "f33c8e901b544dd897d112b564c1bcfd",
       "version_major": 2,
       "version_minor": 0
      },
      "text/plain": "HBox(children=(HTML(value='Training'), FloatProgress(value=1.0, bar_style='info', layout=Layout(flex='2'), max…"
     },
     "metadata": {
      "transient": {}
     },
     "output_type": "display_data"
    },
    {
     "data": {
      "application/vnd.jupyter.widget-view+json": {
       "model_id": "cee2495a45034566a8817a32350222bb",
       "version_major": 2,
       "version_minor": 0
      },
      "text/plain": "HBox(children=(HTML(value='Validating'), FloatProgress(value=1.0, bar_style='info', layout=Layout(flex='2'), m…"
     },
     "metadata": {
      "transient": {}
     },
     "output_type": "display_data"
    },
    {
     "data": {
      "application/vnd.jupyter.widget-view+json": {
       "model_id": "7b080bf25aae47d29754eba1a039ccb2",
       "version_major": 2,
       "version_minor": 0
      },
      "text/plain": "HBox(children=(HTML(value='Validating'), FloatProgress(value=1.0, bar_style='info', layout=Layout(flex='2'), m…"
     },
     "metadata": {
      "transient": {}
     },
     "output_type": "display_data"
    },
    {
     "data": {
      "application/vnd.jupyter.widget-view+json": {
       "model_id": "06bb0f03cb034d85b81a946cb60a31f4",
       "version_major": 2,
       "version_minor": 0
      },
      "text/plain": "HBox(children=(HTML(value='Validating'), FloatProgress(value=1.0, bar_style='info', layout=Layout(flex='2'), m…"
     },
     "metadata": {
      "transient": {}
     },
     "output_type": "display_data"
    },
    {
     "data": {
      "application/vnd.jupyter.widget-view+json": {
       "model_id": "bbc902bd4dc047509ca2aa2a12078f98",
       "version_major": 2,
       "version_minor": 0
      },
      "text/plain": "HBox(children=(HTML(value='Validating'), FloatProgress(value=1.0, bar_style='info', layout=Layout(flex='2'), m…"
     },
     "metadata": {
      "transient": {}
     },
     "output_type": "display_data"
    },
    {
     "data": {
      "application/vnd.jupyter.widget-view+json": {
       "model_id": "3b2c446e08c74da8a026fa327509950f",
       "version_major": 2,
       "version_minor": 0
      },
      "text/plain": "HBox(children=(HTML(value='Validating'), FloatProgress(value=1.0, bar_style='info', layout=Layout(flex='2'), m…"
     },
     "metadata": {
      "transient": {}
     },
     "output_type": "display_data"
    },
    {
     "data": {
      "application/vnd.jupyter.widget-view+json": {
       "model_id": "b42382d46d864a45bc3b01e9c81ee29a",
       "version_major": 2,
       "version_minor": 0
      },
      "text/plain": "HBox(children=(HTML(value='Validating'), FloatProgress(value=1.0, bar_style='info', layout=Layout(flex='2'), m…"
     },
     "metadata": {
      "transient": {}
     },
     "output_type": "display_data"
    },
    {
     "data": {
      "application/vnd.jupyter.widget-view+json": {
       "model_id": "2425b77a26e9430182220e86ddf6c4f0",
       "version_major": 2,
       "version_minor": 0
      },
      "text/plain": "HBox(children=(HTML(value='Validating'), FloatProgress(value=1.0, bar_style='info', layout=Layout(flex='2'), m…"
     },
     "metadata": {
      "transient": {}
     },
     "output_type": "display_data"
    },
    {
     "data": {
      "application/vnd.jupyter.widget-view+json": {
       "model_id": "0a26cacc556d4c1eb08e415cc74e387e",
       "version_major": 2,
       "version_minor": 0
      },
      "text/plain": "HBox(children=(HTML(value='Validating'), FloatProgress(value=1.0, bar_style='info', layout=Layout(flex='2'), m…"
     },
     "metadata": {
      "transient": {}
     },
     "output_type": "display_data"
    },
    {
     "data": {
      "application/vnd.jupyter.widget-view+json": {
       "model_id": "fcc3c270ee12477898bdb7a752c9534f",
       "version_major": 2,
       "version_minor": 0
      },
      "text/plain": "HBox(children=(HTML(value='Validating'), FloatProgress(value=1.0, bar_style='info', layout=Layout(flex='2'), m…"
     },
     "metadata": {
      "transient": {}
     },
     "output_type": "display_data"
    },
    {
     "data": {
      "application/vnd.jupyter.widget-view+json": {
       "model_id": "a7439654399a4269bc7e569c6cae7ac3",
       "version_major": 2,
       "version_minor": 0
      },
      "text/plain": "HBox(children=(HTML(value='Validating'), FloatProgress(value=1.0, bar_style='info', layout=Layout(flex='2'), m…"
     },
     "metadata": {
      "transient": {}
     },
     "output_type": "display_data"
    },
    {
     "name": "stdout",
     "output_type": "stream",
     "text": [
      "\n"
     ]
    },
    {
     "data": {
      "text/plain": "1"
     },
     "execution_count": 13,
     "metadata": {},
     "output_type": "execute_result"
    }
   ],
   "source": [
    "N_EPOCHS = 10\n",
    "CLIP = 1\n",
    "plmodel.lr = 1e-4\n",
    "\n",
    "tb_logger = pl_loggers.TensorBoardLogger('./logs/')\n",
    "lr_monitor = LearningRateMonitor(logging_interval='step')\n",
    "early_stop_callback = EarlyStopping(\n",
    "   monitor='total_val_loss',\n",
    "   min_delta=0.01,\n",
    "   patience=2,\n",
    "   verbose=False,\n",
    "   mode='mean'\n",
    ")\n",
    "trainer = Trainer(\n",
    "    max_epochs=N_EPOCHS,\n",
    "    gradient_clip_val=CLIP,\n",
    "    progress_bar_refresh_rate=1,\n",
    "    callbacks=[lr_monitor], \n",
    "    logger=tb_logger,\n",
    "    log_every_n_steps=20\n",
    ")\n",
    "data_module.setup('fit')\n",
    "trainer.fit(plmodel, data_module)"
   ]
  },
  {
   "cell_type": "code",
   "execution_count": 9,
   "metadata": {},
   "outputs": [
    {
     "ename": "AssertionError",
     "evalue": "",
     "output_type": "error",
     "traceback": [
      "\u001b[0;31m---------------------------------------------------------------------------\u001b[0m",
      "\u001b[0;31mAssertionError\u001b[0m                            Traceback (most recent call last)",
      "\u001b[0;32m<ipython-input-9-e99f91a18d62>\u001b[0m in \u001b[0;36m<module>\u001b[0;34m\u001b[0m\n\u001b[0;32m----> 1\u001b[0;31m \u001b[0;32massert\u001b[0m \u001b[0;36m1\u001b[0m \u001b[0;34m==\u001b[0m \u001b[0;36m0\u001b[0m\u001b[0;34m\u001b[0m\u001b[0;34m\u001b[0m\u001b[0m\n\u001b[0m",
      "\u001b[0;31mAssertionError\u001b[0m: "
     ]
    }
   ],
   "source": [
    "assert 1 == 0"
   ]
  },
  {
   "cell_type": "code",
   "execution_count": 17,
   "metadata": {},
   "outputs": [
    {
     "data": {
      "text/plain": "0.7708333333333334"
     },
     "execution_count": 17,
     "metadata": {},
     "output_type": "execute_result"
    }
   ],
   "source": [
    "plmodel.pruner.get_total_sparsity_rate()"
   ]
  },
  {
   "cell_type": "code",
   "execution_count": 22,
   "metadata": {},
   "outputs": [
    {
     "data": {
      "text/plain": "tensor([[1., 1., 1., 1., 0., 1., 1., 1.],\n        [0., 1., 0., 1., 1., 0., 0., 0.],\n        [1., 1., 1., 1., 1., 1., 0., 1.],\n        [0., 0., 0., 0., 0., 1., 1., 1.],\n        [0., 1., 1., 1., 1., 1., 1., 1.],\n        [1., 1., 0., 0., 0., 1., 1., 1.]], device='cuda:0')"
     },
     "execution_count": 22,
     "metadata": {},
     "output_type": "execute_result"
    }
   ],
   "source": [
    "plmodel.pruner.get_all_gates()[\"enc_gates\"]"
   ]
  },
  {
   "cell_type": "code",
   "execution_count": null,
   "metadata": {},
   "outputs": [],
   "source": [
    "plmodel.pruner.prune()"
   ]
  },
  {
   "cell_type": "code",
   "execution_count": 15,
   "metadata": {},
   "outputs": [
    {
     "data": {
      "text/plain": "<matplotlib.axes._subplots.AxesSubplot at 0x7f2960f8d490>"
     },
     "execution_count": 15,
     "metadata": {},
     "output_type": "execute_result"
    },
    {
     "data": {
      "image/png": "[encoded data removed]",
      "image/svg+xml": "<?xml version=\"1.0\" encoding=\"utf-8\" standalone=\"no\"?>\n<!DOCTYPE svg PUBLIC \"-//W3C//DTD SVG 1.1//EN\"\n  \"http://www.w3.org/Graphics/SVG/1.1/DTD/svg11.dtd\">\n<!-- Created with matplotlib (https://matplotlib.org/) -->\n<svg height=\"248.518125pt\" version=\"1.1\" viewBox=\"0 0 362.15825 248.518125\" width=\"362.15825pt\" xmlns=\"http://www.w3.org/2000/svg\" xmlns:xlink=\"http://www.w3.org/1999/xlink\">\n <defs>\n  <style type=\"text/css\">\n*{stroke-linecap:butt;stroke-linejoin:round;}\n  </style>\n </defs>\n <g id=\"figure_1\">\n  <g id=\"patch_1\">\n   <path d=\"M -0 248.518125 \nL 362.15825 248.518125 \nL 362.15825 0 \nL -0 0 \nz\n\" style=\"fill:none;\"/>\n  </g>\n  <g id=\"axes_1\">\n   <g id=\"patch_2\">\n    <path d=\"M 23.878125 224.64 \nL 291.718125 224.64 \nL 291.718125 7.2 \nL 23.878125 7.2 \nz\n\" style=\"fill:#ffffff;\"/>\n   </g>\n   <g id=\"QuadMesh_1\">\n    <path clip-path=\"url(#pa262c52a63)\" d=\"M 23.878125 7.2 \nL 57.358125 7.2 \nL 57.358125 43.44 \nL 23.878125 43.44 \nL 23.878125 7.2 \n\" style=\"fill:#fdfed5;\"/>\n    <path clip-path=\"url(#pa262c52a63)\" d=\"M 57.358125 7.2 \nL 90.838125 7.2 \nL 90.838125 43.44 \nL 57.358125 43.44 \nL 57.358125 7.2 \n\" style=\"fill:#2352a3;\"/>\n    <path clip-path=\"url(#pa262c52a63)\" d=\"M 90.838125 7.2 \nL 124.318125 7.2 \nL 124.318125 43.44 \nL 90.838125 43.44 \nL 90.838125 7.2 \n\" style=\"fill:#78cbbc;\"/>\n    <path clip-path=\"url(#pa262c52a63)\" d=\"M 124.318125 7.2 \nL 157.798125 7.2 \nL 157.798125 43.44 \nL 124.318125 43.44 \nL 124.318125 7.2 \n\" style=\"fill:#2070b0;\"/>\n    <path clip-path=\"url(#pa262c52a63)\" d=\"M 157.798125 7.2 \nL 191.278125 7.2 \nL 191.278125 43.44 \nL 157.798125 43.44 \nL 157.798125 7.2 \n\" style=\"fill:#0f2367;\"/>\n    <path clip-path=\"url(#pa262c52a63)\" d=\"M 191.278125 7.2 \nL 224.758125 7.2 \nL 224.758125 43.44 \nL 191.278125 43.44 \nL 191.278125 7.2 \n\" style=\"fill:#eff9b6;\"/>\n    <path clip-path=\"url(#pa262c52a63)\" d=\"M 224.758125 7.2 \nL 258.238125 7.2 \nL 258.238125 43.44 \nL 224.758125 43.44 \nL 224.758125 7.2 \n\" style=\"fill:#225ea8;\"/>\n    <path clip-path=\"url(#pa262c52a63)\" d=\"M 258.238125 7.2 \nL 291.718125 7.2 \nL 291.718125 43.44 \nL 258.238125 43.44 \nL 258.238125 7.2 \n\" style=\"fill:#2352a3;\"/>\n    <path clip-path=\"url(#pa262c52a63)\" d=\"M 23.878125 43.44 \nL 57.358125 43.44 \nL 57.358125 79.68 \nL 23.878125 79.68 \nL 23.878125 43.44 \n\" style=\"fill:#5bc0c0;\"/>\n    <path clip-path=\"url(#pa262c52a63)\" d=\"M 57.358125 43.44 \nL 90.838125 43.44 \nL 90.838125 79.68 \nL 57.358125 79.68 \nL 57.358125 43.44 \n\" style=\"fill:#1d2e83;\"/>\n    <path clip-path=\"url(#pa262c52a63)\" d=\"M 90.838125 43.44 \nL 124.318125 43.44 \nL 124.318125 79.68 \nL 90.838125 79.68 \nL 90.838125 43.44 \n\" style=\"fill:#6fc7bd;\"/>\n    <path clip-path=\"url(#pa262c52a63)\" d=\"M 124.318125 43.44 \nL 157.798125 43.44 \nL 157.798125 79.68 \nL 124.318125 79.68 \nL 124.318125 43.44 \n\" style=\"fill:#76cabc;\"/>\n    <path clip-path=\"url(#pa262c52a63)\" d=\"M 157.798125 43.44 \nL 191.278125 43.44 \nL 191.278125 79.68 \nL 157.798125 79.68 \nL 157.798125 43.44 \n\" style=\"fill:#d3eeb3;\"/>\n    <path clip-path=\"url(#pa262c52a63)\" d=\"M 191.278125 43.44 \nL 224.758125 43.44 \nL 224.758125 79.68 \nL 191.278125 79.68 \nL 191.278125 43.44 \n\" style=\"fill:#8cd2ba;\"/>\n    <path clip-path=\"url(#pa262c52a63)\" d=\"M 224.758125 43.44 \nL 258.238125 43.44 \nL 258.238125 79.68 \nL 224.758125 79.68 \nL 224.758125 43.44 \n\" style=\"fill:#e1f3b2;\"/>\n    <path clip-path=\"url(#pa262c52a63)\" d=\"M 258.238125 43.44 \nL 291.718125 43.44 \nL 291.718125 79.68 \nL 258.238125 79.68 \nL 258.238125 43.44 \n\" style=\"fill:#172976;\"/>\n    <path clip-path=\"url(#pa262c52a63)\" d=\"M 23.878125 79.68 \nL 57.358125 79.68 \nL 57.358125 115.92 \nL 23.878125 115.92 \nL 23.878125 79.68 \n\" style=\"fill:#fafdce;\"/>\n    <path clip-path=\"url(#pa262c52a63)\" d=\"M 57.358125 79.68 \nL 90.838125 79.68 \nL 90.838125 115.92 \nL 57.358125 115.92 \nL 57.358125 79.68 \n\" style=\"fill:#7cccbb;\"/>\n    <path clip-path=\"url(#pa262c52a63)\" d=\"M 90.838125 79.68 \nL 124.318125 79.68 \nL 124.318125 115.92 \nL 90.838125 115.92 \nL 90.838125 79.68 \n\" style=\"fill:#a0dab8;\"/>\n    <path clip-path=\"url(#pa262c52a63)\" d=\"M 124.318125 79.68 \nL 157.798125 79.68 \nL 157.798125 115.92 \nL 124.318125 115.92 \nL 124.318125 79.68 \n\" style=\"fill:#4ab9c3;\"/>\n    <path clip-path=\"url(#pa262c52a63)\" d=\"M 157.798125 79.68 \nL 191.278125 79.68 \nL 191.278125 115.92 \nL 157.798125 115.92 \nL 157.798125 79.68 \n\" style=\"fill:#1f7bb6;\"/>\n    <path clip-path=\"url(#pa262c52a63)\" d=\"M 191.278125 79.68 \nL 224.758125 79.68 \nL 224.758125 115.92 \nL 191.278125 115.92 \nL 191.278125 79.68 \n\" style=\"fill:#081d58;\"/>\n    <path clip-path=\"url(#pa262c52a63)\" d=\"M 224.758125 79.68 \nL 258.238125 79.68 \nL 258.238125 115.92 \nL 224.758125 115.92 \nL 224.758125 79.68 \n\" style=\"fill:#4cbac2;\"/>\n    <path clip-path=\"url(#pa262c52a63)\" d=\"M 258.238125 79.68 \nL 291.718125 79.68 \nL 291.718125 115.92 \nL 258.238125 115.92 \nL 258.238125 79.68 \n\" style=\"fill:#8ed3ba;\"/>\n    <path clip-path=\"url(#pa262c52a63)\" d=\"M 23.878125 115.92 \nL 57.358125 115.92 \nL 57.358125 152.16 \nL 23.878125 152.16 \nL 23.878125 115.92 \n\" style=\"fill:#7cccbb;\"/>\n    <path clip-path=\"url(#pa262c52a63)\" d=\"M 57.358125 115.92 \nL 90.838125 115.92 \nL 90.838125 152.16 \nL 57.358125 152.16 \nL 57.358125 115.92 \n\" style=\"fill:#ceecb3;\"/>\n    <path clip-path=\"url(#pa262c52a63)\" d=\"M 90.838125 115.92 \nL 124.318125 115.92 \nL 124.318125 152.16 \nL 90.838125 152.16 \nL 90.838125 115.92 \n\" style=\"fill:#c6e9b4;\"/>\n    <path clip-path=\"url(#pa262c52a63)\" d=\"M 124.318125 115.92 \nL 157.798125 115.92 \nL 157.798125 152.16 \nL 124.318125 152.16 \nL 124.318125 115.92 \n\" style=\"fill:#abdeb7;\"/>\n    <path clip-path=\"url(#pa262c52a63)\" d=\"M 157.798125 115.92 \nL 191.278125 115.92 \nL 191.278125 152.16 \nL 157.798125 152.16 \nL 157.798125 115.92 \n\" style=\"fill:#f4fbc1;\"/>\n    <path clip-path=\"url(#pa262c52a63)\" d=\"M 191.278125 115.92 \nL 224.758125 115.92 \nL 224.758125 152.16 \nL 191.278125 152.16 \nL 191.278125 115.92 \n\" style=\"fill:#71c8bd;\"/>\n    <path clip-path=\"url(#pa262c52a63)\" d=\"M 224.758125 115.92 \nL 258.238125 115.92 \nL 258.238125 152.16 \nL 224.758125 152.16 \nL 224.758125 115.92 \n\" style=\"fill:#36abc3;\"/>\n    <path clip-path=\"url(#pa262c52a63)\" d=\"M 258.238125 115.92 \nL 291.718125 115.92 \nL 291.718125 152.16 \nL 258.238125 152.16 \nL 258.238125 115.92 \n\" style=\"fill:#7acbbc;\"/>\n    <path clip-path=\"url(#pa262c52a63)\" d=\"M 23.878125 152.16 \nL 57.358125 152.16 \nL 57.358125 188.4 \nL 23.878125 188.4 \nL 23.878125 152.16 \n\" style=\"fill:#1d91c0;\"/>\n    <path clip-path=\"url(#pa262c52a63)\" d=\"M 57.358125 152.16 \nL 90.838125 152.16 \nL 90.838125 188.4 \nL 57.358125 188.4 \nL 57.358125 152.16 \n\" style=\"fill:#2a9ec1;\"/>\n    <path clip-path=\"url(#pa262c52a63)\" d=\"M 90.838125 152.16 \nL 124.318125 152.16 \nL 124.318125 188.4 \nL 90.838125 188.4 \nL 90.838125 152.16 \n\" style=\"fill:#0b1f5e;\"/>\n    <path clip-path=\"url(#pa262c52a63)\" d=\"M 124.318125 152.16 \nL 157.798125 152.16 \nL 157.798125 188.4 \nL 124.318125 188.4 \nL 124.318125 152.16 \n\" style=\"fill:#ceecb3;\"/>\n    <path clip-path=\"url(#pa262c52a63)\" d=\"M 157.798125 152.16 \nL 191.278125 152.16 \nL 191.278125 188.4 \nL 157.798125 188.4 \nL 157.798125 152.16 \n\" style=\"fill:#21308b;\"/>\n    <path clip-path=\"url(#pa262c52a63)\" d=\"M 191.278125 152.16 \nL 224.758125 152.16 \nL 224.758125 188.4 \nL 191.278125 188.4 \nL 191.278125 152.16 \n\" style=\"fill:#225ea8;\"/>\n    <path clip-path=\"url(#pa262c52a63)\" d=\"M 224.758125 152.16 \nL 258.238125 152.16 \nL 258.238125 188.4 \nL 224.758125 188.4 \nL 224.758125 152.16 \n\" style=\"fill:#ffffd9;\"/>\n    <path clip-path=\"url(#pa262c52a63)\" d=\"M 258.238125 152.16 \nL 291.718125 152.16 \nL 291.718125 188.4 \nL 258.238125 188.4 \nL 258.238125 152.16 \n\" style=\"fill:#2166ac;\"/>\n    <path clip-path=\"url(#pa262c52a63)\" d=\"M 23.878125 188.4 \nL 57.358125 188.4 \nL 57.358125 224.64 \nL 23.878125 224.64 \nL 23.878125 188.4 \n\" style=\"fill:#142670;\"/>\n    <path clip-path=\"url(#pa262c52a63)\" d=\"M 57.358125 188.4 \nL 90.838125 188.4 \nL 90.838125 224.64 \nL 57.358125 224.64 \nL 57.358125 188.4 \n\" style=\"fill:#57bec1;\"/>\n    <path clip-path=\"url(#pa262c52a63)\" d=\"M 90.838125 188.4 \nL 124.318125 188.4 \nL 124.318125 224.64 \nL 90.838125 224.64 \nL 90.838125 188.4 \n\" style=\"fill:#2258a5;\"/>\n    <path clip-path=\"url(#pa262c52a63)\" d=\"M 124.318125 188.4 \nL 157.798125 188.4 \nL 157.798125 224.64 \nL 124.318125 224.64 \nL 124.318125 188.4 \n\" style=\"fill:#23499e;\"/>\n    <path clip-path=\"url(#pa262c52a63)\" d=\"M 157.798125 188.4 \nL 191.278125 188.4 \nL 191.278125 224.64 \nL 157.798125 224.64 \nL 157.798125 188.4 \n\" style=\"fill:#234da0;\"/>\n    <path clip-path=\"url(#pa262c52a63)\" d=\"M 191.278125 188.4 \nL 224.758125 188.4 \nL 224.758125 224.64 \nL 191.278125 224.64 \nL 191.278125 188.4 \n\" style=\"fill:#1f7db6;\"/>\n    <path clip-path=\"url(#pa262c52a63)\" d=\"M 224.758125 188.4 \nL 258.238125 188.4 \nL 258.238125 224.64 \nL 224.758125 224.64 \nL 224.758125 188.4 \n\" style=\"fill:#d6efb3;\"/>\n    <path clip-path=\"url(#pa262c52a63)\" d=\"M 258.238125 188.4 \nL 291.718125 188.4 \nL 291.718125 224.64 \nL 258.238125 224.64 \nL 258.238125 188.4 \n\" style=\"fill:#a9ddb7;\"/>\n   </g>\n   <g id=\"matplotlib.axis_1\">\n    <g id=\"xtick_1\">\n     <g id=\"line2d_1\">\n      <defs>\n       <path d=\"M 0 0 \nL 0 3.5 \n\" id=\"m8d33d1ce3c\" style=\"stroke:#000000;stroke-width:0.8;\"/>\n      </defs>\n      <g>\n       <use style=\"stroke:#000000;stroke-width:0.8;\" x=\"40.618125\" xlink:href=\"#m8d33d1ce3c\" y=\"224.64\"/>\n      </g>\n     </g>\n     <g id=\"text_1\">\n      <!-- 0 -->\n      <defs>\n       <path d=\"M 31.78125 66.40625 \nQ 24.171875 66.40625 20.328125 58.90625 \nQ 16.5 51.421875 16.5 36.375 \nQ 16.5 21.390625 20.328125 13.890625 \nQ 24.171875 6.390625 31.78125 6.390625 \nQ 39.453125 6.390625 43.28125 13.890625 \nQ 47.125 21.390625 47.125 36.375 \nQ 47.125 51.421875 43.28125 58.90625 \nQ 39.453125 66.40625 31.78125 66.40625 \nz\nM 31.78125 74.21875 \nQ 44.046875 74.21875 50.515625 64.515625 \nQ 56.984375 54.828125 56.984375 36.375 \nQ 56.984375 17.96875 50.515625 8.265625 \nQ 44.046875 -1.421875 31.78125 -1.421875 \nQ 19.53125 -1.421875 13.0625 8.265625 \nQ 6.59375 17.96875 6.59375 36.375 \nQ 6.59375 54.828125 13.0625 64.515625 \nQ 19.53125 74.21875 31.78125 74.21875 \nz\n\" id=\"DejaVuSans-48\"/>\n      </defs>\n      <g transform=\"translate(37.436875 239.238438)scale(0.1 -0.1)\">\n       <use xlink:href=\"#DejaVuSans-48\"/>\n      </g>\n     </g>\n    </g>\n    <g id=\"xtick_2\">\n     <g id=\"line2d_2\">\n      <g>\n       <use style=\"stroke:#000000;stroke-width:0.8;\" x=\"74.098125\" xlink:href=\"#m8d33d1ce3c\" y=\"224.64\"/>\n      </g>\n     </g>\n     <g id=\"text_2\">\n      <!-- 1 -->\n      <defs>\n       <path d=\"M 12.40625 8.296875 \nL 28.515625 8.296875 \nL 28.515625 63.921875 \nL 10.984375 60.40625 \nL 10.984375 69.390625 \nL 28.421875 72.90625 \nL 38.28125 72.90625 \nL 38.28125 8.296875 \nL 54.390625 8.296875 \nL 54.390625 0 \nL 12.40625 0 \nz\n\" id=\"DejaVuSans-49\"/>\n      </defs>\n      <g transform=\"translate(70.916875 239.238438)scale(0.1 -0.1)\">\n       <use xlink:href=\"#DejaVuSans-49\"/>\n      </g>\n     </g>\n    </g>\n    <g id=\"xtick_3\">\n     <g id=\"line2d_3\">\n      <g>\n       <use style=\"stroke:#000000;stroke-width:0.8;\" x=\"107.578125\" xlink:href=\"#m8d33d1ce3c\" y=\"224.64\"/>\n      </g>\n     </g>\n     <g id=\"text_3\">\n      <!-- 2 -->\n      <defs>\n       <path d=\"M 19.1875 8.296875 \nL 53.609375 8.296875 \nL 53.609375 0 \nL 7.328125 0 \nL 7.328125 8.296875 \nQ 12.9375 14.109375 22.625 23.890625 \nQ 32.328125 33.6875 34.8125 36.53125 \nQ 39.546875 41.84375 41.421875 45.53125 \nQ 43.3125 49.21875 43.3125 52.78125 \nQ 43.3125 58.59375 39.234375 62.25 \nQ 35.15625 65.921875 28.609375 65.921875 \nQ 23.96875 65.921875 18.8125 64.3125 \nQ 13.671875 62.703125 7.8125 59.421875 \nL 7.8125 69.390625 \nQ 13.765625 71.78125 18.9375 73 \nQ 24.125 74.21875 28.421875 74.21875 \nQ 39.75 74.21875 46.484375 68.546875 \nQ 53.21875 62.890625 53.21875 53.421875 \nQ 53.21875 48.921875 51.53125 44.890625 \nQ 49.859375 40.875 45.40625 35.40625 \nQ 44.1875 33.984375 37.640625 27.21875 \nQ 31.109375 20.453125 19.1875 8.296875 \nz\n\" id=\"DejaVuSans-50\"/>\n      </defs>\n      <g transform=\"translate(104.396875 239.238438)scale(0.1 -0.1)\">\n       <use xlink:href=\"#DejaVuSans-50\"/>\n      </g>\n     </g>\n    </g>\n    <g id=\"xtick_4\">\n     <g id=\"line2d_4\">\n      <g>\n       <use style=\"stroke:#000000;stroke-width:0.8;\" x=\"141.058125\" xlink:href=\"#m8d33d1ce3c\" y=\"224.64\"/>\n      </g>\n     </g>\n     <g id=\"text_4\">\n      <!-- 3 -->\n      <defs>\n       <path d=\"M 40.578125 39.3125 \nQ 47.65625 37.796875 51.625 33 \nQ 55.609375 28.21875 55.609375 21.1875 \nQ 55.609375 10.40625 48.1875 4.484375 \nQ 40.765625 -1.421875 27.09375 -1.421875 \nQ 22.515625 -1.421875 17.65625 -0.515625 \nQ 12.796875 0.390625 7.625 2.203125 \nL 7.625 11.71875 \nQ 11.71875 9.328125 16.59375 8.109375 \nQ 21.484375 6.890625 26.8125 6.890625 \nQ 36.078125 6.890625 40.9375 10.546875 \nQ 45.796875 14.203125 45.796875 21.1875 \nQ 45.796875 27.640625 41.28125 31.265625 \nQ 36.765625 34.90625 28.71875 34.90625 \nL 20.21875 34.90625 \nL 20.21875 43.015625 \nL 29.109375 43.015625 \nQ 36.375 43.015625 40.234375 45.921875 \nQ 44.09375 48.828125 44.09375 54.296875 \nQ 44.09375 59.90625 40.109375 62.90625 \nQ 36.140625 65.921875 28.71875 65.921875 \nQ 24.65625 65.921875 20.015625 65.03125 \nQ 15.375 64.15625 9.8125 62.3125 \nL 9.8125 71.09375 \nQ 15.4375 72.65625 20.34375 73.4375 \nQ 25.25 74.21875 29.59375 74.21875 \nQ 40.828125 74.21875 47.359375 69.109375 \nQ 53.90625 64.015625 53.90625 55.328125 \nQ 53.90625 49.265625 50.4375 45.09375 \nQ 46.96875 40.921875 40.578125 39.3125 \nz\n\" id=\"DejaVuSans-51\"/>\n      </defs>\n      <g transform=\"translate(137.876875 239.238438)scale(0.1 -0.1)\">\n       <use xlink:href=\"#DejaVuSans-51\"/>\n      </g>\n     </g>\n    </g>\n    <g id=\"xtick_5\">\n     <g id=\"line2d_5\">\n      <g>\n       <use style=\"stroke:#000000;stroke-width:0.8;\" x=\"174.538125\" xlink:href=\"#m8d33d1ce3c\" y=\"224.64\"/>\n      </g>\n     </g>\n     <g id=\"text_5\">\n      <!-- 4 -->\n      <defs>\n       <path d=\"M 37.796875 64.3125 \nL 12.890625 25.390625 \nL 37.796875 25.390625 \nz\nM 35.203125 72.90625 \nL 47.609375 72.90625 \nL 47.609375 25.390625 \nL 58.015625 25.390625 \nL 58.015625 17.1875 \nL 47.609375 17.1875 \nL 47.609375 0 \nL 37.796875 0 \nL 37.796875 17.1875 \nL 4.890625 17.1875 \nL 4.890625 26.703125 \nz\n\" id=\"DejaVuSans-52\"/>\n      </defs>\n      <g transform=\"translate(171.356875 239.238438)scale(0.1 -0.1)\">\n       <use xlink:href=\"#DejaVuSans-52\"/>\n      </g>\n     </g>\n    </g>\n    <g id=\"xtick_6\">\n     <g id=\"line2d_6\">\n      <g>\n       <use style=\"stroke:#000000;stroke-width:0.8;\" x=\"208.018125\" xlink:href=\"#m8d33d1ce3c\" y=\"224.64\"/>\n      </g>\n     </g>\n     <g id=\"text_6\">\n      <!-- 5 -->\n      <defs>\n       <path d=\"M 10.796875 72.90625 \nL 49.515625 72.90625 \nL 49.515625 64.59375 \nL 19.828125 64.59375 \nL 19.828125 46.734375 \nQ 21.96875 47.46875 24.109375 47.828125 \nQ 26.265625 48.1875 28.421875 48.1875 \nQ 40.625 48.1875 47.75 41.5 \nQ 54.890625 34.8125 54.890625 23.390625 \nQ 54.890625 11.625 47.5625 5.09375 \nQ 40.234375 -1.421875 26.90625 -1.421875 \nQ 22.3125 -1.421875 17.546875 -0.640625 \nQ 12.796875 0.140625 7.71875 1.703125 \nL 7.71875 11.625 \nQ 12.109375 9.234375 16.796875 8.0625 \nQ 21.484375 6.890625 26.703125 6.890625 \nQ 35.15625 6.890625 40.078125 11.328125 \nQ 45.015625 15.765625 45.015625 23.390625 \nQ 45.015625 31 40.078125 35.4375 \nQ 35.15625 39.890625 26.703125 39.890625 \nQ 22.75 39.890625 18.8125 39.015625 \nQ 14.890625 38.140625 10.796875 36.28125 \nz\n\" id=\"DejaVuSans-53\"/>\n      </defs>\n      <g transform=\"translate(204.836875 239.238438)scale(0.1 -0.1)\">\n       <use xlink:href=\"#DejaVuSans-53\"/>\n      </g>\n     </g>\n    </g>\n    <g id=\"xtick_7\">\n     <g id=\"line2d_7\">\n      <g>\n       <use style=\"stroke:#000000;stroke-width:0.8;\" x=\"241.498125\" xlink:href=\"#m8d33d1ce3c\" y=\"224.64\"/>\n      </g>\n     </g>\n     <g id=\"text_7\">\n      <!-- 6 -->\n      <defs>\n       <path d=\"M 33.015625 40.375 \nQ 26.375 40.375 22.484375 35.828125 \nQ 18.609375 31.296875 18.609375 23.390625 \nQ 18.609375 15.53125 22.484375 10.953125 \nQ 26.375 6.390625 33.015625 6.390625 \nQ 39.65625 6.390625 43.53125 10.953125 \nQ 47.40625 15.53125 47.40625 23.390625 \nQ 47.40625 31.296875 43.53125 35.828125 \nQ 39.65625 40.375 33.015625 40.375 \nz\nM 52.59375 71.296875 \nL 52.59375 62.3125 \nQ 48.875 64.0625 45.09375 64.984375 \nQ 41.3125 65.921875 37.59375 65.921875 \nQ 27.828125 65.921875 22.671875 59.328125 \nQ 17.53125 52.734375 16.796875 39.40625 \nQ 19.671875 43.65625 24.015625 45.921875 \nQ 28.375 48.1875 33.59375 48.1875 \nQ 44.578125 48.1875 50.953125 41.515625 \nQ 57.328125 34.859375 57.328125 23.390625 \nQ 57.328125 12.15625 50.6875 5.359375 \nQ 44.046875 -1.421875 33.015625 -1.421875 \nQ 20.359375 -1.421875 13.671875 8.265625 \nQ 6.984375 17.96875 6.984375 36.375 \nQ 6.984375 53.65625 15.1875 63.9375 \nQ 23.390625 74.21875 37.203125 74.21875 \nQ 40.921875 74.21875 44.703125 73.484375 \nQ 48.484375 72.75 52.59375 71.296875 \nz\n\" id=\"DejaVuSans-54\"/>\n      </defs>\n      <g transform=\"translate(238.316875 239.238438)scale(0.1 -0.1)\">\n       <use xlink:href=\"#DejaVuSans-54\"/>\n      </g>\n     </g>\n    </g>\n    <g id=\"xtick_8\">\n     <g id=\"line2d_8\">\n      <g>\n       <use style=\"stroke:#000000;stroke-width:0.8;\" x=\"274.978125\" xlink:href=\"#m8d33d1ce3c\" y=\"224.64\"/>\n      </g>\n     </g>\n     <g id=\"text_8\">\n      <!-- 7 -->\n      <defs>\n       <path d=\"M 8.203125 72.90625 \nL 55.078125 72.90625 \nL 55.078125 68.703125 \nL 28.609375 0 \nL 18.3125 0 \nL 43.21875 64.59375 \nL 8.203125 64.59375 \nz\n\" id=\"DejaVuSans-55\"/>\n      </defs>\n      <g transform=\"translate(271.796875 239.238438)scale(0.1 -0.1)\">\n       <use xlink:href=\"#DejaVuSans-55\"/>\n      </g>\n     </g>\n    </g>\n   </g>\n   <g id=\"matplotlib.axis_2\">\n    <g id=\"ytick_1\">\n     <g id=\"line2d_9\">\n      <defs>\n       <path d=\"M 0 0 \nL -3.5 0 \n\" id=\"m54da6ad433\" style=\"stroke:#000000;stroke-width:0.8;\"/>\n      </defs>\n      <g>\n       <use style=\"stroke:#000000;stroke-width:0.8;\" x=\"23.878125\" xlink:href=\"#m54da6ad433\" y=\"25.32\"/>\n      </g>\n     </g>\n     <g id=\"text_9\">\n      <!-- 0 -->\n      <g transform=\"translate(14.798438 27.883281)rotate(-90)scale(0.1 -0.1)\">\n       <use xlink:href=\"#DejaVuSans-48\"/>\n      </g>\n     </g>\n    </g>\n    <g id=\"ytick_2\">\n     <g id=\"line2d_10\">\n      <g>\n       <use style=\"stroke:#000000;stroke-width:0.8;\" x=\"23.878125\" xlink:href=\"#m54da6ad433\" y=\"61.56\"/>\n      </g>\n     </g>\n     <g id=\"text_10\">\n      <!-- 1 -->\n      <g transform=\"translate(14.798438 64.123281)rotate(-90)scale(0.1 -0.1)\">\n       <use xlink:href=\"#DejaVuSans-49\"/>\n      </g>\n     </g>\n    </g>\n    <g id=\"ytick_3\">\n     <g id=\"line2d_11\">\n      <g>\n       <use style=\"stroke:#000000;stroke-width:0.8;\" x=\"23.878125\" xlink:href=\"#m54da6ad433\" y=\"97.8\"/>\n      </g>\n     </g>\n     <g id=\"text_11\">\n      <!-- 2 -->\n      <g transform=\"translate(14.798438 100.363281)rotate(-90)scale(0.1 -0.1)\">\n       <use xlink:href=\"#DejaVuSans-50\"/>\n      </g>\n     </g>\n    </g>\n    <g id=\"ytick_4\">\n     <g id=\"line2d_12\">\n      <g>\n       <use style=\"stroke:#000000;stroke-width:0.8;\" x=\"23.878125\" xlink:href=\"#m54da6ad433\" y=\"134.04\"/>\n      </g>\n     </g>\n     <g id=\"text_12\">\n      <!-- 3 -->\n      <g transform=\"translate(14.798438 136.603281)rotate(-90)scale(0.1 -0.1)\">\n       <use xlink:href=\"#DejaVuSans-51\"/>\n      </g>\n     </g>\n    </g>\n    <g id=\"ytick_5\">\n     <g id=\"line2d_13\">\n      <g>\n       <use style=\"stroke:#000000;stroke-width:0.8;\" x=\"23.878125\" xlink:href=\"#m54da6ad433\" y=\"170.28\"/>\n      </g>\n     </g>\n     <g id=\"text_13\">\n      <!-- 4 -->\n      <g transform=\"translate(14.798438 172.843281)rotate(-90)scale(0.1 -0.1)\">\n       <use xlink:href=\"#DejaVuSans-52\"/>\n      </g>\n     </g>\n    </g>\n    <g id=\"ytick_6\">\n     <g id=\"line2d_14\">\n      <g>\n       <use style=\"stroke:#000000;stroke-width:0.8;\" x=\"23.878125\" xlink:href=\"#m54da6ad433\" y=\"206.52\"/>\n      </g>\n     </g>\n     <g id=\"text_14\">\n      <!-- 5 -->\n      <g transform=\"translate(14.798438 209.083281)rotate(-90)scale(0.1 -0.1)\">\n       <use xlink:href=\"#DejaVuSans-53\"/>\n      </g>\n     </g>\n    </g>\n   </g>\n  </g>\n  <g id=\"axes_2\">\n   <g id=\"patch_3\">\n    <path clip-path=\"url(#pe9600f819b)\" d=\"M 308.458125 224.64 \nL 308.458125 223.790625 \nL 308.458125 8.049375 \nL 308.458125 7.2 \nL 319.330125 7.2 \nL 319.330125 8.049375 \nL 319.330125 223.790625 \nL 319.330125 224.64 \nz\n\" style=\"fill:#ffffff;stroke:#ffffff;stroke-linejoin:miter;stroke-width:0.01;\"/>\n   </g>\n   <image height=\"217\" id=\"imageae2ea09575\" transform=\"scale(1 -1)translate(0 -217)\" width=\"11\" x=\"308\" xlink:href=\"data:image/png;base64,\niVBORw0KGgoAAAANSUhEUgAAAAsAAADZCAYAAAD2WsoCAAAABHNCSVQICAgIfAhkiAAAAW9JREFUaIHdmkGOwCAMA43E/9+3f1lI9guZw0h0e7YsxzE0Lazqn87w2UlNsdndY+LsBIA7V5LRRAbUDKxjzE2aIsrwfLYKhBFFMiw3ukH4YUS18LOIWqmbi0j2nDfZQAVmXnPwFWU8wWwWCHxGzKVp/iIzaneRprDV/UiBhPkANLMOLSuUDVQg0vzL3LDAF0WUMJ83ZJjWAfApkuc5MS7Q8hm6AcBsK5gTm9k4ms/oRW/udQDsuSGGf05M3SBbgSfDc+OiAt+IqOcGa7cWfjYxIhlAB5RBXhNwMteYkWbPuk+6gWQ8Yd0VC/TAlnUXjF8b/CfLDlkpIQUuxjzGZgeMuUwz+JWbvRgzAYP0M83QjTfazdz4YLsRM/j+N9vtbTLgi1cskEXU2xi1PDPrGJjIEN1Aef7nBXp59mQsbyvQpgLEXH3mYDheohnJO0kHYOiGdaDvXZyAmj03NDA5o6/SChSbgu7JkPAXurz0ght/rVym7XqqraoAAAAASUVORK5CYII=\" y=\"-7\"/>\n   <g id=\"matplotlib.axis_3\"/>\n   <g id=\"matplotlib.axis_4\">\n    <g id=\"ytick_7\">\n     <g id=\"line2d_15\">\n      <defs>\n       <path d=\"M 0 0 \nL 3.5 0 \n\" id=\"ma02650793f\" style=\"stroke:#000000;stroke-width:0.8;\"/>\n      </defs>\n      <g>\n       <use style=\"stroke:#000000;stroke-width:0.8;\" x=\"319.330125\" xlink:href=\"#ma02650793f\" y=\"214.295655\"/>\n      </g>\n     </g>\n     <g id=\"text_15\">\n      <!-- 0.456 -->\n      <defs>\n       <path d=\"M 10.6875 12.40625 \nL 21 12.40625 \nL 21 0 \nL 10.6875 0 \nz\n\" id=\"DejaVuSans-46\"/>\n      </defs>\n      <g transform=\"translate(326.330125 218.094874)scale(0.1 -0.1)\">\n       <use xlink:href=\"#DejaVuSans-48\"/>\n       <use x=\"63.623047\" xlink:href=\"#DejaVuSans-46\"/>\n       <use x=\"95.410156\" xlink:href=\"#DejaVuSans-52\"/>\n       <use x=\"159.033203\" xlink:href=\"#DejaVuSans-53\"/>\n       <use x=\"222.65625\" xlink:href=\"#DejaVuSans-54\"/>\n      </g>\n     </g>\n    </g>\n    <g id=\"ytick_8\">\n     <g id=\"line2d_16\">\n      <g>\n       <use style=\"stroke:#000000;stroke-width:0.8;\" x=\"319.330125\" xlink:href=\"#ma02650793f\" y=\"177.01531\"/>\n      </g>\n     </g>\n     <g id=\"text_16\">\n      <!-- 0.464 -->\n      <g transform=\"translate(326.330125 180.814529)scale(0.1 -0.1)\">\n       <use xlink:href=\"#DejaVuSans-48\"/>\n       <use x=\"63.623047\" xlink:href=\"#DejaVuSans-46\"/>\n       <use x=\"95.410156\" xlink:href=\"#DejaVuSans-52\"/>\n       <use x=\"159.033203\" xlink:href=\"#DejaVuSans-54\"/>\n       <use x=\"222.65625\" xlink:href=\"#DejaVuSans-52\"/>\n      </g>\n     </g>\n    </g>\n    <g id=\"ytick_9\">\n     <g id=\"line2d_17\">\n      <g>\n       <use style=\"stroke:#000000;stroke-width:0.8;\" x=\"319.330125\" xlink:href=\"#ma02650793f\" y=\"139.734966\"/>\n      </g>\n     </g>\n     <g id=\"text_17\">\n      <!-- 0.472 -->\n      <g transform=\"translate(326.330125 143.534184)scale(0.1 -0.1)\">\n       <use xlink:href=\"#DejaVuSans-48\"/>\n       <use x=\"63.623047\" xlink:href=\"#DejaVuSans-46\"/>\n       <use x=\"95.410156\" xlink:href=\"#DejaVuSans-52\"/>\n       <use x=\"159.033203\" xlink:href=\"#DejaVuSans-55\"/>\n       <use x=\"222.65625\" xlink:href=\"#DejaVuSans-50\"/>\n      </g>\n     </g>\n    </g>\n    <g id=\"ytick_10\">\n     <g id=\"line2d_18\">\n      <g>\n       <use style=\"stroke:#000000;stroke-width:0.8;\" x=\"319.330125\" xlink:href=\"#ma02650793f\" y=\"102.454621\"/>\n      </g>\n     </g>\n     <g id=\"text_18\">\n      <!-- 0.480 -->\n      <defs>\n       <path d=\"M 31.78125 34.625 \nQ 24.75 34.625 20.71875 30.859375 \nQ 16.703125 27.09375 16.703125 20.515625 \nQ 16.703125 13.921875 20.71875 10.15625 \nQ 24.75 6.390625 31.78125 6.390625 \nQ 38.8125 6.390625 42.859375 10.171875 \nQ 46.921875 13.96875 46.921875 20.515625 \nQ 46.921875 27.09375 42.890625 30.859375 \nQ 38.875 34.625 31.78125 34.625 \nz\nM 21.921875 38.8125 \nQ 15.578125 40.375 12.03125 44.71875 \nQ 8.5 49.078125 8.5 55.328125 \nQ 8.5 64.0625 14.71875 69.140625 \nQ 20.953125 74.21875 31.78125 74.21875 \nQ 42.671875 74.21875 48.875 69.140625 \nQ 55.078125 64.0625 55.078125 55.328125 \nQ 55.078125 49.078125 51.53125 44.71875 \nQ 48 40.375 41.703125 38.8125 \nQ 48.828125 37.15625 52.796875 32.3125 \nQ 56.78125 27.484375 56.78125 20.515625 \nQ 56.78125 9.90625 50.3125 4.234375 \nQ 43.84375 -1.421875 31.78125 -1.421875 \nQ 19.734375 -1.421875 13.25 4.234375 \nQ 6.78125 9.90625 6.78125 20.515625 \nQ 6.78125 27.484375 10.78125 32.3125 \nQ 14.796875 37.15625 21.921875 38.8125 \nz\nM 18.3125 54.390625 \nQ 18.3125 48.734375 21.84375 45.5625 \nQ 25.390625 42.390625 31.78125 42.390625 \nQ 38.140625 42.390625 41.71875 45.5625 \nQ 45.3125 48.734375 45.3125 54.390625 \nQ 45.3125 60.0625 41.71875 63.234375 \nQ 38.140625 66.40625 31.78125 66.40625 \nQ 25.390625 66.40625 21.84375 63.234375 \nQ 18.3125 60.0625 18.3125 54.390625 \nz\n\" id=\"DejaVuSans-56\"/>\n      </defs>\n      <g transform=\"translate(326.330125 106.25384)scale(0.1 -0.1)\">\n       <use xlink:href=\"#DejaVuSans-48\"/>\n       <use x=\"63.623047\" xlink:href=\"#DejaVuSans-46\"/>\n       <use x=\"95.410156\" xlink:href=\"#DejaVuSans-52\"/>\n       <use x=\"159.033203\" xlink:href=\"#DejaVuSans-56\"/>\n       <use x=\"222.65625\" xlink:href=\"#DejaVuSans-48\"/>\n      </g>\n     </g>\n    </g>\n    <g id=\"ytick_11\">\n     <g id=\"line2d_19\">\n      <g>\n       <use style=\"stroke:#000000;stroke-width:0.8;\" x=\"319.330125\" xlink:href=\"#ma02650793f\" y=\"65.174276\"/>\n      </g>\n     </g>\n     <g id=\"text_19\">\n      <!-- 0.488 -->\n      <g transform=\"translate(326.330125 68.973495)scale(0.1 -0.1)\">\n       <use xlink:href=\"#DejaVuSans-48\"/>\n       <use x=\"63.623047\" xlink:href=\"#DejaVuSans-46\"/>\n       <use x=\"95.410156\" xlink:href=\"#DejaVuSans-52\"/>\n       <use x=\"159.033203\" xlink:href=\"#DejaVuSans-56\"/>\n       <use x=\"222.65625\" xlink:href=\"#DejaVuSans-56\"/>\n      </g>\n     </g>\n    </g>\n    <g id=\"ytick_12\">\n     <g id=\"line2d_20\">\n      <g>\n       <use style=\"stroke:#000000;stroke-width:0.8;\" x=\"319.330125\" xlink:href=\"#ma02650793f\" y=\"27.893931\"/>\n      </g>\n     </g>\n     <g id=\"text_20\">\n      <!-- 0.496 -->\n      <defs>\n       <path d=\"M 10.984375 1.515625 \nL 10.984375 10.5 \nQ 14.703125 8.734375 18.5 7.8125 \nQ 22.3125 6.890625 25.984375 6.890625 \nQ 35.75 6.890625 40.890625 13.453125 \nQ 46.046875 20.015625 46.78125 33.40625 \nQ 43.953125 29.203125 39.59375 26.953125 \nQ 35.25 24.703125 29.984375 24.703125 \nQ 19.046875 24.703125 12.671875 31.3125 \nQ 6.296875 37.9375 6.296875 49.421875 \nQ 6.296875 60.640625 12.9375 67.421875 \nQ 19.578125 74.21875 30.609375 74.21875 \nQ 43.265625 74.21875 49.921875 64.515625 \nQ 56.59375 54.828125 56.59375 36.375 \nQ 56.59375 19.140625 48.40625 8.859375 \nQ 40.234375 -1.421875 26.421875 -1.421875 \nQ 22.703125 -1.421875 18.890625 -0.6875 \nQ 15.09375 0.046875 10.984375 1.515625 \nz\nM 30.609375 32.421875 \nQ 37.25 32.421875 41.125 36.953125 \nQ 45.015625 41.5 45.015625 49.421875 \nQ 45.015625 57.28125 41.125 61.84375 \nQ 37.25 66.40625 30.609375 66.40625 \nQ 23.96875 66.40625 20.09375 61.84375 \nQ 16.21875 57.28125 16.21875 49.421875 \nQ 16.21875 41.5 20.09375 36.953125 \nQ 23.96875 32.421875 30.609375 32.421875 \nz\n\" id=\"DejaVuSans-57\"/>\n      </defs>\n      <g transform=\"translate(326.330125 31.69315)scale(0.1 -0.1)\">\n       <use xlink:href=\"#DejaVuSans-48\"/>\n       <use x=\"63.623047\" xlink:href=\"#DejaVuSans-46\"/>\n       <use x=\"95.410156\" xlink:href=\"#DejaVuSans-52\"/>\n       <use x=\"159.033203\" xlink:href=\"#DejaVuSans-57\"/>\n       <use x=\"222.65625\" xlink:href=\"#DejaVuSans-54\"/>\n      </g>\n     </g>\n    </g>\n   </g>\n   <g id=\"patch_4\">\n    <path d=\"M 308.458125 224.64 \nL 308.458125 223.790625 \nL 308.458125 8.049375 \nL 308.458125 7.2 \nL 319.330125 7.2 \nL 319.330125 8.049375 \nL 319.330125 223.790625 \nL 319.330125 224.64 \nz\n\" style=\"fill:none;\"/>\n   </g>\n  </g>\n </g>\n <defs>\n  <clipPath id=\"pa262c52a63\">\n   <rect height=\"217.44\" width=\"267.84\" x=\"23.878125\" y=\"7.2\"/>\n  </clipPath>\n  <clipPath id=\"pe9600f819b\">\n   <rect height=\"217.44\" width=\"10.872\" x=\"308.458125\" y=\"7.2\"/>\n  </clipPath>\n </defs>\n</svg>\n",
      "text/plain": "<Figure size 432x288 with 2 Axes>"
     },
     "metadata": {
      "needs_background": "light",
      "transient": {}
     },
     "output_type": "display_data"
    }
   ],
   "source": [
    "import seaborn as sns\n",
    "\n",
    "sns.heatmap(plmodel.pruner.get_probs().detach().cpu().numpy(), cmap=\"YlGnBu\")"
   ]
  },
  {
   "cell_type": "code",
   "execution_count": 25,
   "metadata": {},
   "outputs": [
    {
     "data": {
      "application/vnd.jupyter.widget-view+json": {
       "model_id": "cea25170f30e4d1f9553ee7ee67304cc",
       "version_major": 2,
       "version_minor": 0
      },
      "text/plain": "HBox(children=(HTML(value=''), FloatProgress(value=0.0, max=7500.0), HTML(value='')))"
     },
     "metadata": {
      "transient": {}
     },
     "output_type": "display_data"
    },
    {
     "name": "stdout",
     "output_type": "stream",
     "text": [
      "\n"
     ]
    },
    {
     "data": {
      "text/plain": "0.2512597004366643"
     },
     "execution_count": 25,
     "metadata": {},
     "output_type": "execute_result"
    }
   ],
   "source": [
    "utils.calculate_bleu(\n",
    "    data = data_module.test_iter, \n",
    "    src_field = data_module.src_field, \n",
    "    trg_field = data_module.trg_field,\n",
    "    model = plmodel.model,\n",
    "    device=DEVICE\n",
    ")"
   ]
  },
  {
   "cell_type": "markdown",
   "metadata": {},
   "source": [
    "## 0.261 bleu vs 0.251 "
   ]
  },
  {
   "cell_type": "code",
   "execution_count": null,
   "metadata": {},
   "outputs": [],
   "source": []
  }
 ],
 "metadata": {
  "kernelspec": {
   "display_name": "Python 3",
   "language": "python",
   "name": "python3"
  },
  "language_info": {
   "codemirror_mode": {
    "name": "ipython",
    "version": 3
   },
   "file_extension": ".py",
   "mimetype": "text/x-python",
   "name": "python",
   "nbconvert_exporter": "python",
   "pygments_lexer": "ipython3",
   "version": "3.7.5"
  },
  "orig_nbformat": 2
 },
 "nbformat": 4,
 "nbformat_minor": 2
}